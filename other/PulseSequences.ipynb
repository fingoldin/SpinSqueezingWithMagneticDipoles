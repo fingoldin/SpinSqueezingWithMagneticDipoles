{
 "cells": [
  {
   "cell_type": "code",
   "execution_count": 1,
   "id": "9e9464d1",
   "metadata": {},
   "outputs": [],
   "source": [
    "import numpy as np\n",
    "import proplot as pplt\n",
    "from matplotlib.patches import Rectangle\n",
    "import matplotlib.colors as colors\n",
    "from qplots import plot_squeezing"
   ]
  },
  {
   "cell_type": "code",
   "execution_count": 5,
   "id": "c92ac590",
   "metadata": {},
   "outputs": [],
   "source": [
    "c0 = \"black\"\n",
    "\n",
    "last_x = 0\n",
    "\n",
    "def box(ax, s, l, c, ec=None, a=1, nump=1000, label=None, label_rot=\"horizontal\", label_size=8, label_color=\"black\", lw=0.5):\n",
    "  global last_x\n",
    "  \n",
    "  if ec is None:\n",
    "    ec = c\n",
    "    \n",
    "  x0 = last_x + s\n",
    "  x1 = x0 + l\n",
    "    \n",
    "  ax.plot([last_x, x0], [0, 0], color=ec, lw=lw)\n",
    "  ax.plot([x0, x0, x1, x1], a*np.array([0, 1, 1, 0]), color=ec, lw=lw)\n",
    "\n",
    "  fc = colors.to_rgb(c)\n",
    "  fc += (0.3,)\n",
    "  ax.add_patch(Rectangle([x0, 0], x1 - x0, a, color=fc))\n",
    "  last_x = x1\n",
    "\n",
    "  #if label is not None:\n",
    "  #  ax.text((last_x + x0)/2, a/2, label, ha=\"center\", va=\"center\", fontsize=0.8*label_size, rotation=label_rot,\n",
    "  #         color=label_color)\n",
    "\n",
    "def pulse_f(xc, sig, f, c, nump=1000, nsig=6):\n",
    "  global last_x\n",
    "  \n",
    "  xc = last_x + xc\n",
    "\n",
    "  # ensure the sweeps ends at 0\n",
    "  x = np.linspace(xc - nsig*sig, xc + nsig*sig, nump)\n",
    "  y = np.exp(-(x-xc)**2/(2*sig**2))*np.sin(f*x)\n",
    "  \n",
    "  pplt.plot([last_x, x[0]], [0,0], color=c0)\n",
    "  last_x = x[-1]\n",
    "\n",
    "  pplt.plot(x, y, color=c)\n",
    "\n",
    "def pulse(xc, sig, c, nump=1000, nsig=3, a=1):\n",
    "  global last_x\n",
    "  \n",
    "  xc = last_x + xc\n",
    "\n",
    "  # ensure the sweeps ends at 0\n",
    "  x = np.linspace(xc - nsig*sig, xc + nsig*sig, nump)\n",
    "  y = a*np.exp(-(x-xc)**2/(2*sig**2))\n",
    "  \n",
    "  pplt.plot([last_x, x[0]], [0,0], color=c0)\n",
    "  last_x = x[-1]\n",
    "\n",
    "  pplt.plot(x, y, color=c)"
   ]
  },
  {
   "cell_type": "code",
   "execution_count": 6,
   "id": "06adb2e6",
   "metadata": {},
   "outputs": [
    {
     "data": {
      "image/png": "[encoded data removed]",
      "text/plain": [
       "Figure(nrows=1, ncols=1, refwidth=2.0, refheight=0.5)"
      ]
     },
     "metadata": {
      "image/png": {
       "height": 62,
       "width": 212
      }
     },
     "output_type": "display_data"
    }
   ],
   "source": [
    "fig, axs = pplt.subplots([[1]], refwidth=2, refheight=0.5)\n",
    "\n",
    "mF_f = 20\n",
    "main_f = 100\n",
    "\n",
    "lbs = 10\n",
    "s = 0.5\n",
    "last_x = s\n",
    "lw = 1.2\n",
    "ec = \"black\"\n",
    "\n",
    "axs[0].plot([0], [0], color=ec, lw=lw)\n",
    "\n",
    "# pi/2\n",
    "box(axs[0], 0.2, 0.32, \"blue7\", ec=ec, label=r'$\\frac{\\pi}{2}_y$', label_size=lbs, lw=lw)\n",
    "# pi\n",
    "box(axs[0], 0.5, 0.64, \"blue7\", ec=ec, label=r'$\\pi_y$', label_size=lbs, lw=lw)\n",
    "# -pi\n",
    "box(axs[0], 1, 0.64, \"blue7\", ec=ec, a=-1, label=r'$\\pi_{-y}$', label_size=lbs, lw=lw)\n",
    "# readout\n",
    "box(axs[0], 0.5, 0.32, \"red7\", ec=ec, label=r'$\\frac{\\pi}{2}_{\\phi}$', label_size=lbs, lw=lw)\n",
    "\n",
    "axs[0].plot([last_x, last_x+0.2], [0,0], color=ec, lw=lw)\n",
    "\n",
    "axs[0].set_axis_off()\n",
    "\n",
    "fig.savefig(\"figures/contrast_ps.pdf\")"
   ]
  },
  {
   "cell_type": "code",
   "execution_count": 7,
   "id": "c3a52315",
   "metadata": {},
   "outputs": [
    {
     "data": {
      "image/png": "[encoded data removed]",
      "text/plain": [
       "Figure(nrows=1, ncols=1, refwidth=2.0, refheight=0.5)"
      ]
     },
     "metadata": {
      "image/png": {
       "height": 62,
       "width": 212
      }
     },
     "output_type": "display_data"
    }
   ],
   "source": [
    "fig, axs = pplt.subplots([[1]], refwidth=2, refheight=0.5)\n",
    "\n",
    "mF_f = 20\n",
    "main_f = 100\n",
    "\n",
    "lbs = 10\n",
    "s = 0.5\n",
    "last_x = s\n",
    "lw = 1.2\n",
    "ec = \"black\"\n",
    "\n",
    "axs[0].plot([0], [0], color=ec, lw=lw)\n",
    "\n",
    "# pi/2 x\n",
    "box(axs[0], 0.2, 0.36, \"blue7\", ec=ec, label=r'$\\frac{\\pi}{2}_x$', label_size=lbs, lw=lw)\n",
    "\n",
    "# pi/2 -y\n",
    "box(axs[0], 0.25, 0.4, \"red7\", ec=ec, a=-1, label=r'$\\frac{-\\pi}{2}_{y}$', label_size=lbs, lw=lw)\n",
    "# pi y\n",
    "box(axs[0], 0.25, 0.8, \"red7\", ec=ec, a=1, label=r'$\\pi_{y}$', label_size=lbs, lw=lw)\n",
    "# pi/2 y\n",
    "box(axs[0], 0.25, 0.4, \"red7\", ec=ec, a=1, label=r'$\\frac{\\pi}{2}_{y}$', label_size=lbs, lw=lw)\n",
    "# pi/2 x\n",
    "box(axs[0], 0.25, 0.4, \"blue7\", ec=ec, a=1, label=r'$\\frac{\\pi}{2}_{x}$', label_size=lbs, lw=lw)\n",
    "# pi -x\n",
    "box(axs[0], 0.25, 0.8, \"blue7\", ec=ec, a=-1, label=r'$-\\pi_{x}$', label_size=lbs, lw=lw)\n",
    "\n",
    "axs[0].plot([last_x, last_x+0.2], [0,0], color=ec, lw=lw)\n",
    "\n",
    "axs[0].set_axis_off()\n",
    "\n",
    "fig.savefig(\"figures/wahuha_ps.pdf\")"
   ]
  },
  {
   "cell_type": "code",
   "execution_count": 8,
   "id": "0db37271",
   "metadata": {},
   "outputs": [
    {
     "data": {
      "image/png": "[encoded data removed]",
      "text/plain": [
       "Figure(nrows=1, ncols=1, refwidth=2.0, refheight=0.4)"
      ]
     },
     "metadata": {
      "image/png": {
       "height": 52,
       "width": 212
      }
     },
     "output_type": "display_data"
    }
   ],
   "source": [
    "fig, axs = pplt.subplots([[1]], refwidth=2, refheight=0.4)\n",
    "\n",
    "\n",
    "mF_f = 20\n",
    "main_f = 100\n",
    "\n",
    "lbs = 10\n",
    "s = 0.5\n",
    "last_x =s\n",
    "lw = 0.8\n",
    "ec = \"black\" #\"#8f1409\"\n",
    "\n",
    "axs[0].plot([0], [0], color=ec, lw=lw)\n",
    "\n",
    "# pi/2\n",
    "box(axs[0], 0.1, 0.2, \"blue7\", ec=ec, label=r'$\\frac{\\pi}{2}_y$', label_size=lbs, lw=lw)\n",
    "# pi\n",
    "box(axs[0], 0.25, 0.4, \"blue7\", ec=ec, label=r'$\\pi_y$', label_size=lbs, lw=lw)\n",
    "# -pi\n",
    "box(axs[0], 0.5, 0.4, \"blue7\", ec=ec, a=-1, label=r'$\\pi_{-y}$', label_size=lbs, lw=lw)\n",
    "# readout\n",
    "box(axs[0], 0.25, 0.2, \"red7\", ec=ec, label=r'$\\theta_{x}$', label_size=lbs, lw=lw)\n",
    "\n",
    "axs[0].plot([last_x, last_x+0.1], [0,0], color=ec, lw=lw)\n",
    "\n",
    "axs[0].set_axis_off()\n",
    "\n",
    "fig.savefig(\"figures/squeezing_ps.pdf\")"
   ]
  },
  {
   "cell_type": "code",
   "execution_count": 9,
   "id": "d83af2ea-9a18-41df-8186-bca8f0469ec6",
   "metadata": {},
   "outputs": [
    {
     "data": {
      "image/png": "[encoded data removed]",
      "text/plain": [
       "Figure(nrows=1, ncols=1, refwidth=2.0, refheight=0.5)"
      ]
     },
     "metadata": {
      "image/png": {
       "height": 62,
       "width": 212
      }
     },
     "output_type": "display_data"
    }
   ],
   "source": [
    "fig, axs = pplt.subplots([[1]], refwidth=2, refheight=0.5)\n",
    "\n",
    "mF_f = 20\n",
    "main_f = 100\n",
    "\n",
    "lbs = 10\n",
    "s = 0.5\n",
    "last_x = s\n",
    "lw = 1.2\n",
    "ec = \"black\"\n",
    "\n",
    "axs[0].plot([0], [0], color=ec, lw=lw)\n",
    "\n",
    "# pi/2\n",
    "box(axs[0], 0.2, 0.32, \"blue7\", ec=ec, label=r'$\\frac{\\pi}{2}_y$', label_size=lbs, lw=lw)\n",
    "# pi\n",
    "box(axs[0], 0.5, 0.64, \"blue7\", ec=ec, label=r'$\\pi_y$', label_size=lbs, lw=lw)\n",
    "# -pi\n",
    "box(axs[0], 1, 0.64, \"blue7\", ec=ec, a=-1, label=r'$\\pi_{-y}$', label_size=lbs, lw=lw)\n",
    "# readout\n",
    "box(axs[0], 0.5, 0.32, \"red7\", ec=ec, label=r'$\\frac{\\pi}{2}_{x}$', label_size=lbs, lw=lw)\n",
    "\n",
    "axs[0].plot([last_x, last_x+0.2], [0,0], color=ec, lw=lw)\n",
    "\n",
    "axs[0].set_axis_off()\n",
    "\n",
    "fig.savefig(\"figures/mean_field_ps.pdf\")"
   ]
  },
  {
   "cell_type": "code",
   "execution_count": null,
   "id": "a623b9c4-86de-4c51-b536-fe708b04e435",
   "metadata": {},
   "outputs": [],
   "source": []
  },
  {
   "cell_type": "code",
   "execution_count": null,
   "id": "7b4a0cdc-f8e7-4dc3-aaff-0b484253c053",
   "metadata": {},
   "outputs": [],
   "source": []
  },
  {
   "cell_type": "code",
   "execution_count": null,
   "id": "cfd320e8-c791-4975-b2e8-86873c0a2411",
   "metadata": {},
   "outputs": [],
   "source": []
  },
  {
   "cell_type": "code",
   "execution_count": null,
   "id": "d923e027-2e1c-44b9-ae10-b64dd8747cd6",
   "metadata": {},
   "outputs": [],
   "source": []
  },
  {
   "cell_type": "code",
   "execution_count": null,
   "id": "9e2c98b2-dfda-4f46-9e91-541afd826997",
   "metadata": {},
   "outputs": [],
   "source": []
  },
  {
   "cell_type": "code",
   "execution_count": null,
   "id": "a90ba993-a647-40e3-8820-b3ad993e6978",
   "metadata": {},
   "outputs": [],
   "source": []
  }
 ],
 "metadata": {
  "kernelspec": {
   "display_name": "Python 3 (ipykernel)",
   "language": "python",
   "name": "python3"
  },
  "language_info": {
   "codemirror_mode": {
    "name": "ipython",
    "version": 3
   },
   "file_extension": ".py",
   "mimetype": "text/x-python",
   "name": "python",
   "nbconvert_exporter": "python",
   "pygments_lexer": "ipython3",
   "version": "3.9.19"
  }
 },
 "nbformat": 4,
 "nbformat_minor": 5
}
